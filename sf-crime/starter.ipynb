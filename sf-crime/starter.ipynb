{
 "cells": [
  {
   "cell_type": "code",
   "execution_count": 1,
   "metadata": {
    "collapsed": false
   },
   "outputs": [
    {
     "name": "stdout",
     "output_type": "stream",
     "text": [
      "sampleSubmission.csv  starter.ipynb  test.csv  train.csv\r\n"
     ]
    }
   ],
   "source": [
    "ls"
   ]
  },
  {
   "cell_type": "code",
   "execution_count": 2,
   "metadata": {
    "collapsed": false
   },
   "outputs": [
    {
     "name": "stderr",
     "output_type": "stream",
     "text": [
      "Vendor:  Continuum Analytics, Inc.\n",
      "Package: mkl\n",
      "Message: trial mode expires in 16 days\n",
      "Vendor:  Continuum Analytics, Inc.\n",
      "Package: mkl\n",
      "Message: trial mode expires in 16 days\n"
     ]
    }
   ],
   "source": [
    "import pandas as pd"
   ]
  },
  {
   "cell_type": "code",
   "execution_count": 3,
   "metadata": {
    "collapsed": false
   },
   "outputs": [],
   "source": [
    "train_frame = pd.read_csv('train.csv')"
   ]
  },
  {
   "cell_type": "code",
   "execution_count": 4,
   "metadata": {
    "collapsed": false
   },
   "outputs": [
    {
     "data": {
      "text/plain": [
       "Index([u'Dates', u'Category', u'Descript', u'DayOfWeek', u'PdDistrict', u'Resolution', u'Address', u'X', u'Y'], dtype='object')"
      ]
     },
     "execution_count": 4,
     "metadata": {},
     "output_type": "execute_result"
    }
   ],
   "source": [
    "train_frame.columns"
   ]
  },
  {
   "cell_type": "code",
   "execution_count": 61,
   "metadata": {
    "collapsed": false
   },
   "outputs": [],
   "source": [
    "d = dict()\n",
    "for category, table in train_frame.groupby(by=\"Category\"):\n",
    "    d.update({category:table['Descript'].unique()})\n"
   ]
  },
  {
   "cell_type": "code",
   "execution_count": null,
   "metadata": {
    "collapsed": true
   },
   "outputs": [],
   "source": []
  },
  {
   "cell_type": "code",
   "execution_count": 63,
   "metadata": {
    "collapsed": false,
    "scrolled": false
   },
   "outputs": [
    {
     "data": {
      "text/plain": [
       "['RECOVERED VEHICLE',\n",
       " 'SUICIDE',\n",
       " 'FRAUD',\n",
       " 'WEAPON LAWS',\n",
       " 'VANDALISM',\n",
       " 'ARSON',\n",
       " 'OTHER OFFENSES',\n",
       " 'WARRANTS',\n",
       " 'LOITERING',\n",
       " 'DRUG/NARCOTIC',\n",
       " 'EMBEZZLEMENT',\n",
       " 'SEX OFFENSES NON FORCIBLE',\n",
       " 'KIDNAPPING',\n",
       " 'DRIVING UNDER THE INFLUENCE',\n",
       " 'LARCENY/THEFT',\n",
       " 'ROBBERY',\n",
       " 'MISSING PERSON',\n",
       " 'BURGLARY',\n",
       " 'RUNAWAY',\n",
       " 'STOLEN PROPERTY',\n",
       " 'PORNOGRAPHY/OBSCENE MAT',\n",
       " 'SUSPICIOUS OCC',\n",
       " 'DISORDERLY CONDUCT',\n",
       " 'LIQUOR LAWS',\n",
       " 'FAMILY OFFENSES',\n",
       " 'TRESPASS',\n",
       " 'TREA',\n",
       " 'SECONDARY CODES',\n",
       " 'VEHICLE THEFT',\n",
       " 'BAD CHECKS',\n",
       " 'SEX OFFENSES FORCIBLE',\n",
       " 'FORGERY/COUNTERFEITING',\n",
       " 'ASSAULT',\n",
       " 'BRIBERY',\n",
       " 'NON-CRIMINAL',\n",
       " 'GAMBLING',\n",
       " 'EXTORTION',\n",
       " 'PROSTITUTION',\n",
       " 'DRUNKENNESS']"
      ]
     },
     "execution_count": 63,
     "metadata": {},
     "output_type": "execute_result"
    }
   ],
   "source": [
    "d.keys()"
   ]
  },
  {
   "cell_type": "code",
   "execution_count": 66,
   "metadata": {
    "collapsed": false
   },
   "outputs": [
    {
     "data": {
      "text/plain": [
       "array(['FALSE IMPRISONMENT', 'KIDNAPPING DURING ROBBERY', 'CHILD STEALING',\n",
       "       'KIDNAPPING, ADULT VICTIM', 'ATTEMPTED KIDNAPPING, JUVENILE VICTIM',\n",
       "       'KIDNAPPING, JUVENILE VICTIM', 'KIDNAPPING DURING CARJACKING',\n",
       "       'ATTEMPTED KIDNAPPING, ADULT VICTIM', 'KIDNAPPER, POSING AS'], dtype=object)"
      ]
     },
     "execution_count": 66,
     "metadata": {},
     "output_type": "execute_result"
    }
   ],
   "source": [
    "d['KIDNAPPING']"
   ]
  },
  {
   "cell_type": "code",
   "execution_count": 25,
   "metadata": {
    "collapsed": false
   },
   "outputs": [
    {
     "data": {
      "text/plain": [
       "count            878049\n",
       "unique               39\n",
       "top       LARCENY/THEFT\n",
       "freq             174900\n",
       "Name: Category, dtype: object"
      ]
     },
     "execution_count": 25,
     "metadata": {},
     "output_type": "execute_result"
    }
   ],
   "source": [
    "train_frame.Category.describe()"
   ]
  },
  {
   "cell_type": "code",
   "execution_count": null,
   "metadata": {
    "collapsed": true
   },
   "outputs": [],
   "source": []
  },
  {
   "cell_type": "code",
   "execution_count": 29,
   "metadata": {
    "collapsed": false
   },
   "outputs": [
    {
     "data": {
      "text/html": [
       "<div style=\"max-height:1000px;max-width:1500px;overflow:auto;\">\n",
       "<table border=\"1\" class=\"dataframe\">\n",
       "  <thead>\n",
       "    <tr style=\"text-align: right;\">\n",
       "      <th></th>\n",
       "      <th></th>\n",
       "      <th>X</th>\n",
       "      <th>Y</th>\n",
       "    </tr>\n",
       "    <tr>\n",
       "      <th>Category</th>\n",
       "      <th></th>\n",
       "      <th></th>\n",
       "      <th></th>\n",
       "    </tr>\n",
       "  </thead>\n",
       "  <tbody>\n",
       "    <tr>\n",
       "      <th rowspan=\"8\" valign=\"top\">ARSON</th>\n",
       "      <th>count</th>\n",
       "      <td>  1513.000000</td>\n",
       "      <td>  1513.000000</td>\n",
       "    </tr>\n",
       "    <tr>\n",
       "      <th>mean</th>\n",
       "      <td>  -122.419799</td>\n",
       "      <td>    37.757478</td>\n",
       "    </tr>\n",
       "    <tr>\n",
       "      <th>std</th>\n",
       "      <td>     0.029780</td>\n",
       "      <td>     0.027173</td>\n",
       "    </tr>\n",
       "    <tr>\n",
       "      <th>min</th>\n",
       "      <td>  -122.510037</td>\n",
       "      <td>    37.708154</td>\n",
       "    </tr>\n",
       "    <tr>\n",
       "      <th>25%</th>\n",
       "      <td>  -122.433892</td>\n",
       "      <td>    37.732303</td>\n",
       "    </tr>\n",
       "    <tr>\n",
       "      <th>50%</th>\n",
       "      <td>  -122.414544</td>\n",
       "      <td>    37.761090</td>\n",
       "    </tr>\n",
       "    <tr>\n",
       "      <th>75%</th>\n",
       "      <td>  -122.399129</td>\n",
       "      <td>    37.780978</td>\n",
       "    </tr>\n",
       "    <tr>\n",
       "      <th>max</th>\n",
       "      <td>  -122.364937</td>\n",
       "      <td>    37.819923</td>\n",
       "    </tr>\n",
       "    <tr>\n",
       "      <th rowspan=\"8\" valign=\"top\">ASSAULT</th>\n",
       "      <th>count</th>\n",
       "      <td> 76876.000000</td>\n",
       "      <td> 76876.000000</td>\n",
       "    </tr>\n",
       "    <tr>\n",
       "      <th>mean</th>\n",
       "      <td>  -122.421062</td>\n",
       "      <td>    37.766595</td>\n",
       "    </tr>\n",
       "    <tr>\n",
       "      <th>std</th>\n",
       "      <td>     0.028574</td>\n",
       "      <td>     0.377655</td>\n",
       "    </tr>\n",
       "    <tr>\n",
       "      <th>min</th>\n",
       "      <td>  -122.513642</td>\n",
       "      <td>    37.707922</td>\n",
       "    </tr>\n",
       "    <tr>\n",
       "      <th>25%</th>\n",
       "      <td>  -122.430759</td>\n",
       "      <td>    37.743555</td>\n",
       "    </tr>\n",
       "    <tr>\n",
       "      <th>50%</th>\n",
       "      <td>  -122.415722</td>\n",
       "      <td>    37.772541</td>\n",
       "    </tr>\n",
       "    <tr>\n",
       "      <th>75%</th>\n",
       "      <td>  -122.406670</td>\n",
       "      <td>    37.783672</td>\n",
       "    </tr>\n",
       "    <tr>\n",
       "      <th>max</th>\n",
       "      <td>  -120.500000</td>\n",
       "      <td>    90.000000</td>\n",
       "    </tr>\n",
       "    <tr>\n",
       "      <th rowspan=\"8\" valign=\"top\">BAD CHECKS</th>\n",
       "      <th>count</th>\n",
       "      <td>   406.000000</td>\n",
       "      <td>   406.000000</td>\n",
       "    </tr>\n",
       "    <tr>\n",
       "      <th>mean</th>\n",
       "      <td>  -122.423752</td>\n",
       "      <td>    37.769944</td>\n",
       "    </tr>\n",
       "    <tr>\n",
       "      <th>std</th>\n",
       "      <td>     0.024956</td>\n",
       "      <td>     0.023670</td>\n",
       "    </tr>\n",
       "    <tr>\n",
       "      <th>min</th>\n",
       "      <td>  -122.506213</td>\n",
       "      <td>    37.708816</td>\n",
       "    </tr>\n",
       "    <tr>\n",
       "      <th>25%</th>\n",
       "      <td>  -122.437571</td>\n",
       "      <td>    37.752700</td>\n",
       "    </tr>\n",
       "    <tr>\n",
       "      <th>50%</th>\n",
       "      <td>  -122.416197</td>\n",
       "      <td>    37.778263</td>\n",
       "    </tr>\n",
       "    <tr>\n",
       "      <th>75%</th>\n",
       "      <td>  -122.405176</td>\n",
       "      <td>    37.787689</td>\n",
       "    </tr>\n",
       "    <tr>\n",
       "      <th>max</th>\n",
       "      <td>  -122.365565</td>\n",
       "      <td>    37.809671</td>\n",
       "    </tr>\n",
       "    <tr>\n",
       "      <th rowspan=\"6\" valign=\"top\">BRIBERY</th>\n",
       "      <th>count</th>\n",
       "      <td>   289.000000</td>\n",
       "      <td>   289.000000</td>\n",
       "    </tr>\n",
       "    <tr>\n",
       "      <th>mean</th>\n",
       "      <td>  -122.418650</td>\n",
       "      <td>    37.754059</td>\n",
       "    </tr>\n",
       "    <tr>\n",
       "      <th>std</th>\n",
       "      <td>     0.025421</td>\n",
       "      <td>     0.024816</td>\n",
       "    </tr>\n",
       "    <tr>\n",
       "      <th>min</th>\n",
       "      <td>  -122.505928</td>\n",
       "      <td>    37.709030</td>\n",
       "    </tr>\n",
       "    <tr>\n",
       "      <th>25%</th>\n",
       "      <td>  -122.430701</td>\n",
       "      <td>    37.731740</td>\n",
       "    </tr>\n",
       "    <tr>\n",
       "      <th>50%</th>\n",
       "      <td>  -122.416078</td>\n",
       "      <td>    37.754626</td>\n",
       "    </tr>\n",
       "    <tr>\n",
       "      <th>...</th>\n",
       "      <th>...</th>\n",
       "      <td>...</td>\n",
       "      <td>...</td>\n",
       "    </tr>\n",
       "    <tr>\n",
       "      <th rowspan=\"6\" valign=\"top\">VANDALISM</th>\n",
       "      <th>std</th>\n",
       "      <td>     0.030115</td>\n",
       "      <td>     0.248353</td>\n",
       "    </tr>\n",
       "    <tr>\n",
       "      <th>min</th>\n",
       "      <td>  -122.513642</td>\n",
       "      <td>    37.707922</td>\n",
       "    </tr>\n",
       "    <tr>\n",
       "      <th>25%</th>\n",
       "      <td>  -122.439631</td>\n",
       "      <td>    37.742772</td>\n",
       "    </tr>\n",
       "    <tr>\n",
       "      <th>50%</th>\n",
       "      <td>  -122.419483</td>\n",
       "      <td>    37.769955</td>\n",
       "    </tr>\n",
       "    <tr>\n",
       "      <th>75%</th>\n",
       "      <td>  -122.406691</td>\n",
       "      <td>    37.783310</td>\n",
       "    </tr>\n",
       "    <tr>\n",
       "      <th>max</th>\n",
       "      <td>  -120.500000</td>\n",
       "      <td>    90.000000</td>\n",
       "    </tr>\n",
       "    <tr>\n",
       "      <th rowspan=\"8\" valign=\"top\">VEHICLE THEFT</th>\n",
       "      <th>count</th>\n",
       "      <td> 53781.000000</td>\n",
       "      <td> 53781.000000</td>\n",
       "    </tr>\n",
       "    <tr>\n",
       "      <th>mean</th>\n",
       "      <td>  -122.429060</td>\n",
       "      <td>    37.768329</td>\n",
       "    </tr>\n",
       "    <tr>\n",
       "      <th>std</th>\n",
       "      <td>     0.037893</td>\n",
       "      <td>     0.676246</td>\n",
       "    </tr>\n",
       "    <tr>\n",
       "      <th>min</th>\n",
       "      <td>  -122.513642</td>\n",
       "      <td>    37.707920</td>\n",
       "    </tr>\n",
       "    <tr>\n",
       "      <th>25%</th>\n",
       "      <td>  -122.443399</td>\n",
       "      <td>    37.737311</td>\n",
       "    </tr>\n",
       "    <tr>\n",
       "      <th>50%</th>\n",
       "      <td>  -122.423602</td>\n",
       "      <td>    37.762628</td>\n",
       "    </tr>\n",
       "    <tr>\n",
       "      <th>75%</th>\n",
       "      <td>  -122.409530</td>\n",
       "      <td>    37.780849</td>\n",
       "    </tr>\n",
       "    <tr>\n",
       "      <th>max</th>\n",
       "      <td>  -120.500000</td>\n",
       "      <td>    90.000000</td>\n",
       "    </tr>\n",
       "    <tr>\n",
       "      <th rowspan=\"8\" valign=\"top\">WARRANTS</th>\n",
       "      <th>count</th>\n",
       "      <td> 42214.000000</td>\n",
       "      <td> 42214.000000</td>\n",
       "    </tr>\n",
       "    <tr>\n",
       "      <th>mean</th>\n",
       "      <td>  -122.417581</td>\n",
       "      <td>    37.778991</td>\n",
       "    </tr>\n",
       "    <tr>\n",
       "      <th>std</th>\n",
       "      <td>     0.033304</td>\n",
       "      <td>     0.719289</td>\n",
       "    </tr>\n",
       "    <tr>\n",
       "      <th>min</th>\n",
       "      <td>  -122.513642</td>\n",
       "      <td>    37.707922</td>\n",
       "    </tr>\n",
       "    <tr>\n",
       "      <th>25%</th>\n",
       "      <td>  -122.421305</td>\n",
       "      <td>    37.760957</td>\n",
       "    </tr>\n",
       "    <tr>\n",
       "      <th>50%</th>\n",
       "      <td>  -122.414056</td>\n",
       "      <td>    37.776231</td>\n",
       "    </tr>\n",
       "    <tr>\n",
       "      <th>75%</th>\n",
       "      <td>  -122.407474</td>\n",
       "      <td>    37.783730</td>\n",
       "    </tr>\n",
       "    <tr>\n",
       "      <th>max</th>\n",
       "      <td>  -120.500000</td>\n",
       "      <td>    90.000000</td>\n",
       "    </tr>\n",
       "    <tr>\n",
       "      <th rowspan=\"8\" valign=\"top\">WEAPON LAWS</th>\n",
       "      <th>count</th>\n",
       "      <td>  8555.000000</td>\n",
       "      <td>  8555.000000</td>\n",
       "    </tr>\n",
       "    <tr>\n",
       "      <th>mean</th>\n",
       "      <td>  -122.418983</td>\n",
       "      <td>    37.758734</td>\n",
       "    </tr>\n",
       "    <tr>\n",
       "      <th>std</th>\n",
       "      <td>     0.025308</td>\n",
       "      <td>     0.026170</td>\n",
       "    </tr>\n",
       "    <tr>\n",
       "      <th>min</th>\n",
       "      <td>  -122.510226</td>\n",
       "      <td>    37.707922</td>\n",
       "    </tr>\n",
       "    <tr>\n",
       "      <th>25%</th>\n",
       "      <td>  -122.427918</td>\n",
       "      <td>    37.734491</td>\n",
       "    </tr>\n",
       "    <tr>\n",
       "      <th>50%</th>\n",
       "      <td>  -122.414810</td>\n",
       "      <td>    37.764057</td>\n",
       "    </tr>\n",
       "    <tr>\n",
       "      <th>75%</th>\n",
       "      <td>  -122.405284</td>\n",
       "      <td>    37.781605</td>\n",
       "    </tr>\n",
       "    <tr>\n",
       "      <th>max</th>\n",
       "      <td>  -122.365565</td>\n",
       "      <td>    37.819923</td>\n",
       "    </tr>\n",
       "  </tbody>\n",
       "</table>\n",
       "<p>312 rows × 2 columns</p>\n",
       "</div>"
      ],
      "text/plain": [
       "                                X             Y\n",
       "Category                                       \n",
       "ARSON         count   1513.000000   1513.000000\n",
       "              mean    -122.419799     37.757478\n",
       "              std        0.029780      0.027173\n",
       "              min     -122.510037     37.708154\n",
       "              25%     -122.433892     37.732303\n",
       "              50%     -122.414544     37.761090\n",
       "              75%     -122.399129     37.780978\n",
       "              max     -122.364937     37.819923\n",
       "ASSAULT       count  76876.000000  76876.000000\n",
       "              mean    -122.421062     37.766595\n",
       "              std        0.028574      0.377655\n",
       "              min     -122.513642     37.707922\n",
       "              25%     -122.430759     37.743555\n",
       "              50%     -122.415722     37.772541\n",
       "              75%     -122.406670     37.783672\n",
       "              max     -120.500000     90.000000\n",
       "BAD CHECKS    count    406.000000    406.000000\n",
       "              mean    -122.423752     37.769944\n",
       "              std        0.024956      0.023670\n",
       "              min     -122.506213     37.708816\n",
       "              25%     -122.437571     37.752700\n",
       "              50%     -122.416197     37.778263\n",
       "              75%     -122.405176     37.787689\n",
       "              max     -122.365565     37.809671\n",
       "BRIBERY       count    289.000000    289.000000\n",
       "              mean    -122.418650     37.754059\n",
       "              std        0.025421      0.024816\n",
       "              min     -122.505928     37.709030\n",
       "              25%     -122.430701     37.731740\n",
       "              50%     -122.416078     37.754626\n",
       "...                           ...           ...\n",
       "VANDALISM     std        0.030115      0.248353\n",
       "              min     -122.513642     37.707922\n",
       "              25%     -122.439631     37.742772\n",
       "              50%     -122.419483     37.769955\n",
       "              75%     -122.406691     37.783310\n",
       "              max     -120.500000     90.000000\n",
       "VEHICLE THEFT count  53781.000000  53781.000000\n",
       "              mean    -122.429060     37.768329\n",
       "              std        0.037893      0.676246\n",
       "              min     -122.513642     37.707920\n",
       "              25%     -122.443399     37.737311\n",
       "              50%     -122.423602     37.762628\n",
       "              75%     -122.409530     37.780849\n",
       "              max     -120.500000     90.000000\n",
       "WARRANTS      count  42214.000000  42214.000000\n",
       "              mean    -122.417581     37.778991\n",
       "              std        0.033304      0.719289\n",
       "              min     -122.513642     37.707922\n",
       "              25%     -122.421305     37.760957\n",
       "              50%     -122.414056     37.776231\n",
       "              75%     -122.407474     37.783730\n",
       "              max     -120.500000     90.000000\n",
       "WEAPON LAWS   count   8555.000000   8555.000000\n",
       "              mean    -122.418983     37.758734\n",
       "              std        0.025308      0.026170\n",
       "              min     -122.510226     37.707922\n",
       "              25%     -122.427918     37.734491\n",
       "              50%     -122.414810     37.764057\n",
       "              75%     -122.405284     37.781605\n",
       "              max     -122.365565     37.819923\n",
       "\n",
       "[312 rows x 2 columns]"
      ]
     },
     "execution_count": 29,
     "metadata": {},
     "output_type": "execute_result"
    }
   ],
   "source": [
    "train_frame.groupby(by=train_frame.Category).describe()"
   ]
  },
  {
   "cell_type": "code",
   "execution_count": null,
   "metadata": {
    "collapsed": true
   },
   "outputs": [],
   "source": []
  },
  {
   "cell_type": "code",
   "execution_count": 9,
   "metadata": {
    "collapsed": false
   },
   "outputs": [
    {
     "ename": "AttributeError",
     "evalue": "Cannot access attribute 'columns' of 'DataFrameGroupBy' objects, try using the 'apply' method",
     "output_type": "error",
     "traceback": [
      "\u001b[1;31m---------------------------------------------------------------------------\u001b[0m",
      "\u001b[1;31mAttributeError\u001b[0m                            Traceback (most recent call last)",
      "\u001b[1;32m<ipython-input-9-8de2132cadb8>\u001b[0m in \u001b[0;36m<module>\u001b[1;34m()\u001b[0m\n\u001b[1;32m----> 1\u001b[1;33m \u001b[0mcategories\u001b[0m\u001b[1;33m.\u001b[0m\u001b[0mcolumns\u001b[0m\u001b[1;33m\u001b[0m\u001b[0m\n\u001b[0m",
      "\u001b[1;32m/home/will/anaconda/lib/python2.7/site-packages/pandas/core/groupby.pyc\u001b[0m in \u001b[0;36m__getattr__\u001b[1;34m(self, attr)\u001b[0m\n\u001b[0;32m    506\u001b[0m             \u001b[1;32mreturn\u001b[0m \u001b[0mself\u001b[0m\u001b[1;33m[\u001b[0m\u001b[0mattr\u001b[0m\u001b[1;33m]\u001b[0m\u001b[1;33m\u001b[0m\u001b[0m\n\u001b[0;32m    507\u001b[0m         \u001b[1;32mif\u001b[0m \u001b[0mhasattr\u001b[0m\u001b[1;33m(\u001b[0m\u001b[0mself\u001b[0m\u001b[1;33m.\u001b[0m\u001b[0mobj\u001b[0m\u001b[1;33m,\u001b[0m \u001b[0mattr\u001b[0m\u001b[1;33m)\u001b[0m\u001b[1;33m:\u001b[0m\u001b[1;33m\u001b[0m\u001b[0m\n\u001b[1;32m--> 508\u001b[1;33m             \u001b[1;32mreturn\u001b[0m \u001b[0mself\u001b[0m\u001b[1;33m.\u001b[0m\u001b[0m_make_wrapper\u001b[0m\u001b[1;33m(\u001b[0m\u001b[0mattr\u001b[0m\u001b[1;33m)\u001b[0m\u001b[1;33m\u001b[0m\u001b[0m\n\u001b[0m\u001b[0;32m    509\u001b[0m \u001b[1;33m\u001b[0m\u001b[0m\n\u001b[0;32m    510\u001b[0m         raise AttributeError(\"%r object has no attribute %r\" %\n",
      "\u001b[1;32m/home/will/anaconda/lib/python2.7/site-packages/pandas/core/groupby.pyc\u001b[0m in \u001b[0;36m_make_wrapper\u001b[1;34m(self, name)\u001b[0m\n\u001b[0;32m    521\u001b[0m                    \"using the 'apply' method\".format(kind, name,\n\u001b[0;32m    522\u001b[0m                                                      type(self).__name__))\n\u001b[1;32m--> 523\u001b[1;33m             \u001b[1;32mraise\u001b[0m \u001b[0mAttributeError\u001b[0m\u001b[1;33m(\u001b[0m\u001b[0mmsg\u001b[0m\u001b[1;33m)\u001b[0m\u001b[1;33m\u001b[0m\u001b[0m\n\u001b[0m\u001b[0;32m    524\u001b[0m \u001b[1;33m\u001b[0m\u001b[0m\n\u001b[0;32m    525\u001b[0m         \u001b[1;31m# need to setup the selection\u001b[0m\u001b[1;33m\u001b[0m\u001b[1;33m\u001b[0m\u001b[0m\n",
      "\u001b[1;31mAttributeError\u001b[0m: Cannot access attribute 'columns' of 'DataFrameGroupBy' objects, try using the 'apply' method"
     ]
    }
   ],
   "source": [
    "categories."
   ]
  },
  {
   "cell_type": "code",
   "execution_count": null,
   "metadata": {
    "collapsed": true
   },
   "outputs": [],
   "source": []
  }
 ],
 "metadata": {
  "kernelspec": {
   "display_name": "Python 2",
   "language": "python",
   "name": "python2"
  },
  "language_info": {
   "codemirror_mode": {
    "name": "ipython",
    "version": 2
   },
   "file_extension": ".py",
   "mimetype": "text/x-python",
   "name": "python",
   "nbconvert_exporter": "python",
   "pygments_lexer": "ipython2",
   "version": "2.7.10"
  }
 },
 "nbformat": 4,
 "nbformat_minor": 0
}
