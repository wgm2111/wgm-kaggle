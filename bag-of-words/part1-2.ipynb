{
 "metadata": {
  "name": "part1-2"
 }, 
 "nbformat": 2, 
 "worksheets": [
  {
   "cells": [
    {
     "cell_type": "code", 
     "collapsed": true, 
     "input": [
      "# Standard imports", 
      "from __future__ import print_function, division", 
      "", 
      "# Third party", 
      "from pandas import read_csv, DataFrame", 
      "from sklearn import cross_validation", 
      "from sklearn.feature_extraction.text import CountVectorizer", 
      "from sklearn.ensemble import RandomForestClassifier", 
      "from sklearn.naive_bayes import BernoulliNB, MultinomialNB", 
      "import numpy as np", 
      "", 
      "# My local imports", 
      "from basic_imports import (", 
      "    X_train, y_train, ", 
      "    X_cv, y_cv,", 
      "    X_test,", 
      "    vectorizer, training_data, test_data)"
     ], 
     "language": "python", 
     "outputs": [], 
     "prompt_number": 1
    }, 
    {
     "cell_type": "markdown", 
     "source": [
      "# Local imports", 
      "The file \"basic_import.py\" contains the script for import data"
     ]
    }, 
    {
     "cell_type": "code", 
     "collapsed": true, 
     "input": [
      "# My local imports", 
      "from basic_imports import (", 
      "    X_train, y_train, ", 
      "    X_cv, y_cv,", 
      "    X_test,", 
      "    vectorizer, training_data, test_data)"
     ], 
     "language": "python", 
     "outputs": [], 
     "prompt_number": 2
    }, 
    {
     "cell_type": "code", 
     "collapsed": false, 
     "input": [
      "", 
      "# Define a function to take a clasifier ant return training data", 
      "def fit_chunks(clf, Xtrain, ytrain, Xcv, ycv, Nchunks=50):", 
      "    \"\"\"", 
      "    Train the classifier in Nchunks, and return training data.", 
      "    \"\"\"", 
      "    # Break training data into chunks", 
      "    Xchunks = [X_train[i::Nchunks] for i in range(Nchunks)]", 
      "    ychunks = [y_train[i::Nchunks] for i in range(Nchunks)]", 
      "    ", 
      "    # Loop over the chunks and train the classifier", 
      "    M = 0", 
      "    Mlist = []", 
      "    scores = []", 
      "    ", 
      "    for Xchunk, ychunk in zip(Xchunks, ychunks):", 
      "", 
      "        # Update measurement count", 
      "        M += ychunk.size", 
      "        Mlist.append(M)", 
      "", 
      "        # train the bernoulli model with more data", 
      "        clf.partial_fit(Xchunk, ychunk, classes=[0,1])", 
      "        scores.append(clf.score(X_cv, y_cv))", 
      "", 
      "    return clf, np.array(Mlist), np.array(scores)", 
      ""
     ], 
     "language": "python", 
     "outputs": [], 
     "prompt_number": 3
    }, 
    {
     "cell_type": "code", 
     "collapsed": false, 
     "input": [
      "", 
      "# Make classifiers by trying different values of smoothing parameter alpha", 
      "alphas = np.linspace(.7, 1.0, 3)", 
      "bernoulli_clfs = []", 
      "bernoulli_score_lists = []", 
      "multinomial_clfs = []", 
      "multinomial_score_lists = []", 
      "", 
      "# Loop over smoothing parameters", 
      "for alpha in alphas:", 
      "    ", 
      "    # Make a Bernoulli based nieve base classifier", 
      "    bernoulli_clf = BernoulliNB(binarize=.1, alpha=alpha)", 
      "    bernoulli_clf, ms, scores = fit_chunks(bernoulli_clf, ", 
      "                                           X_train, y_train, ", 
      "                                           X_cv, y_cv)", 
      "    bernoulli_clfs.append(bernoulli_clf)", 
      "    bernoulli_score_lists.append(scores)", 
      "", 
      "    # Make a Multinomial based nieve classifier", 
      "    multinomial_clf = MultinomialNB(alpha=alpha)", 
      "    multinomial_clf, ms, scores = fit_chunks(multinomial_clf, ", 
      "                                             X_train, y_train, ", 
      "                                             X_cv, y_cv)", 
      "    multinomial_clfs.append(multinomial_clf)", 
      "    multinomial_score_lists.append(scores)", 
      "", 
      "    "
     ], 
     "language": "python", 
     "outputs": [], 
     "prompt_number": 5
    }, 
    {
     "cell_type": "code", 
     "collapsed": false, 
     "input": [
      "print(np.array(bernoulli_score_lists).max())", 
      "print(np.array(multinomial_score_lists).max())"
     ], 
     "language": "python", 
     "outputs": [
      {
       "output_type": "stream", 
       "stream": "stdout", 
       "text": [
        "0.849371428571", 
        "0.846514285714"
       ]
      }
     ], 
     "prompt_number": 13
    }, 
    {
     "cell_type": "code", 
     "collapsed": true, 
     "input": [], 
     "language": "python", 
     "outputs": []
    }
   ]
  }
 ]
}